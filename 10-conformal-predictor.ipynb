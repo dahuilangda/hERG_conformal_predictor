{
 "cells": [
  {
   "cell_type": "code",
   "execution_count": null,
   "metadata": {},
   "outputs": [],
   "source": [
    "from rdkit.Chem import Descriptors, AllChem as Chem, DataStructs\n",
    "from rdkit.Chem import PandasTools\n",
    "import numpy as np\n",
    "import joblib\n",
    "import pickle\n",
    "import pandas as pd\n",
    "from tqdm import tqdm\n",
    "from sklearn import preprocessing"
   ]
  },
  {
   "cell_type": "code",
   "execution_count": null,
   "metadata": {},
   "outputs": [],
   "source": [
    "def calc_descriptors(rdmol):\n",
    "    try:\n",
    "        logp = Descriptors.MolLogP(rdmol)\n",
    "        mwt = Descriptors.MolWt(rdmol)\n",
    "        rtb = Descriptors.NumRotatableBonds(rdmol)\n",
    "        hbd = Descriptors.NumHDonors(rdmol)\n",
    "        hba = Descriptors.NumHAcceptors(rdmol)\n",
    "        tpsa = Descriptors.TPSA(rdmol)\n",
    "        return [logp, mwt, rtb, hbd, hba, tpsa]\n",
    "    except:\n",
    "        return [999, 999, 999, 999, 999, 999, 999]\n",
    "    \n",
    "def calc_fingerprint(rdmol, N_BITS=1024):\n",
    "        fp = Chem.GetMorganFingerprintAsBitVect(\n",
    "            rdmol, radius=2, nBits=N_BITS, useFeatures=False\n",
    "        )\n",
    "        np_fp = np.zeros(0)\n",
    "        ecfp = DataStructs.ConvertToNumpyArray(fp, np_fp)\n",
    "        return np_fp\n",
    "\n",
    "def pred_category(p0, p1, significance):\n",
    "    if (p0 >= significance) & (p1 >= significance):\n",
    "        return \"both\"\n",
    "    if (p0 >= significance) & (p1 < significance):\n",
    "        return \"inactive\"\n",
    "    if (p0 < significance) & (p1 >= significance):\n",
    "        return \"active\"\n",
    "    else:\n",
    "        return \"empty\""
   ]
  },
  {
   "cell_type": "code",
   "execution_count": null,
   "metadata": {},
   "outputs": [],
   "source": [
    "df = pd.read_csv('herg_compound_from_chembl_processed_largestFrag_delDupl.csv')\n",
    "df = df[['activity_comment', 'activity_id', 'activity_properties',\n",
    "       'assay_chembl_id', 'assay_description', 'assay_type', 'bao_endpoint',\n",
    "       'bao_format', 'bao_label', 'canonical_smiles', 'data_validity_comment',\n",
    "       'data_validity_description', 'document_chembl_id', 'document_journal',\n",
    "       'document_year', 'ligand_efficiency', 'molecule_chembl_id',\n",
    "       'molecule_pref_name', 'parent_molecule_chembl_id', 'pchembl_value',\n",
    "       'potential_duplicate', 'qudt_units', 'record_id', 'relation', 'src_id',\n",
    "       'standard_flag', 'standard_relation', 'standard_text_value',\n",
    "       'standard_type', 'standard_units', 'standard_upper_value',\n",
    "       'standard_value', 'target_chembl_id', 'target_organism',\n",
    "       'target_pref_name', 'target_tax_id', 'text_value', 'toid', 'type',\n",
    "       'units', 'uo_units', 'upper_value', 'value', 'smiles']]"
   ]
  },
  {
   "cell_type": "code",
   "execution_count": null,
   "metadata": {},
   "outputs": [],
   "source": [
    "PandasTools.AddMoleculeColumnToFrame(df, 'smiles', 'mol')\n",
    "df['mol'] = df['mol'].fillna(0)\n",
    "df = df[df.mol != 0]\n",
    "df = df[df.standard_relation == '=']"
   ]
  },
  {
   "cell_type": "code",
   "execution_count": null,
   "metadata": {},
   "outputs": [],
   "source": [
    "def convert_IC50_pIC50(value, unit='nM'):\n",
    "    if unit == 'nM':\n",
    "        p_value = -np.log10(value/1e9)\n",
    "    elif unit == 'uM':\n",
    "        p_value = -np.log10(value/1e6)\n",
    "    return p_value\n",
    "        \n",
    "df['pIC50'] = [convert_IC50_pIC50(x) for x in df.standard_value.values]"
   ]
  },
  {
   "cell_type": "code",
   "execution_count": null,
   "metadata": {},
   "outputs": [],
   "source": [
    "df.pIC50.plot(kind='hist')"
   ]
  },
  {
   "cell_type": "code",
   "execution_count": null,
   "metadata": {},
   "outputs": [],
   "source": [
    "features = [np.append(calc_descriptors(mol), calc_fingerprint(mol)) for mol in df.mol]"
   ]
  },
  {
   "cell_type": "code",
   "execution_count": null,
   "metadata": {},
   "outputs": [],
   "source": [
    "import os\n",
    "import pickle\n",
    "\n",
    "scaler = preprocessing.StandardScaler().fit(features)\n",
    "\n",
    "if not os.path.exists('models'):\n",
    "    os.makedirs('models')\n",
    "pickle.dump(scaler, open('models/scaler.pkl','wb'))\n",
    "\n",
    "X= scaler.transform(features)\n",
    "y = df['pIC50'].values"
   ]
  },
  {
   "cell_type": "code",
   "execution_count": null,
   "metadata": {},
   "outputs": [],
   "source": [
    "from sklearn.ensemble import RandomForestRegressor\n",
    "from nonconformist.base import RegressorAdapter\n",
    "from nonconformist.icp import IcpRegressor\n",
    "from nonconformist.nc import MarginErrFunc\n",
    "from nonconformist.nc import RegressorNc, RegressorNormalizer\n",
    "from nonconformist.nc import AbsErrorErrFunc, SignErrorErrFunc\n",
    "\n",
    "from nonconformist.evaluation import cross_val_score\n",
    "from nonconformist.evaluation import RegIcpCvHelper\n",
    "from nonconformist.evaluation import reg_mean_errors, reg_median_size\n",
    "\n",
    "icp = IcpRegressor(\n",
    "    RegressorNc(\n",
    "        RegressorAdapter(RandomForestRegressor(n_estimators=100)), AbsErrorErrFunc()\n",
    "    )\n",
    ")\n",
    "# icp_cv = RegIcpCvHelper(icp)\n",
    "\n",
    "# scores = cross_val_score(\n",
    "#     icp_cv,\n",
    "#     X,\n",
    "#     y,\n",
    "#     iterations=5,\n",
    "#     folds=5,\n",
    "#     scoring_funcs=[reg_mean_errors, reg_median_size],\n",
    "#     significance_levels=[0.05, 0.1, 0.2],\n",
    "# )"
   ]
  },
  {
   "cell_type": "code",
   "execution_count": null,
   "metadata": {},
   "outputs": [],
   "source": [
    "# scores = scores.drop([\"fold\", \"iter\"], axis=1)\n",
    "# print(scores.groupby([\"significance\"]).mean())"
   ]
  },
  {
   "cell_type": "code",
   "execution_count": null,
   "metadata": {},
   "outputs": [],
   "source": [
    "n_instances = y.size\n",
    "idx = np.random.permutation(n_instances)\n",
    "\n",
    "train_idx = idx[: 4*int(n_instances / 8)]\n",
    "cal_idx = idx[4*int(n_instances / 8) : 7*int(n_instances / 8) ]\n",
    "test_idx = idx[7*int(n_instances / 6) :]\n",
    "\n",
    "icp.fit(X[train_idx, :], y[train_idx])\n",
    "icp.calibrate(X[cal_idx, :], y[cal_idx])\n",
    "\n",
    "if not os.path.exists('models'):\n",
    "    os.makedirs('models')\n",
    "pickle.dump(icp, open('models/icp.pkl','wb'))"
   ]
  },
  {
   "cell_type": "code",
   "execution_count": null,
   "metadata": {},
   "outputs": [],
   "source": [
    "# icp.cal_scores.values()"
   ]
  },
  {
   "cell_type": "code",
   "execution_count": null,
   "metadata": {},
   "outputs": [],
   "source": [
    "#Load models and predict molecules (smiles)\n",
    "\n",
    "scaler = pickle.load(open('models/scaler.pkl', 'rb'))\n",
    "icp = pickle.load(open('models/icp.pkl', 'rb'))"
   ]
  },
  {
   "cell_type": "code",
   "execution_count": null,
   "metadata": {},
   "outputs": [],
   "source": [
    "df_results = pd.DataFrame(icp.predict(X[test_idx, :], significance=0.1), columns=['Minmum','Maximum'])\n",
    "df_results['Real'] = y[test_idx].reshape(-1)"
   ]
  },
  {
   "cell_type": "code",
   "execution_count": null,
   "metadata": {},
   "outputs": [],
   "source": [
    "smiles = '''C1=CC=C(C=C1)C=O\n",
    "CCC(CC)COC(=O)[C@H](C)N[P@](=O)(OC[C@@H]1[C@H]([C@H]([C@](O1)(C#N)C2=CC=C3N2N=CN=C3N)O)O)OC4=CC=CC=C4\n",
    "CCN(CC)CCCC(C)NC1=C2C=CC(=CC2=NC=C1)Cl'''\n",
    "smiles = smiles.split()"
   ]
  },
  {
   "cell_type": "code",
   "execution_count": null,
   "metadata": {},
   "outputs": [],
   "source": [
    "mols = [Chem.MolFromSmiles(s) for s in smiles]"
   ]
  },
  {
   "cell_type": "code",
   "execution_count": null,
   "metadata": {},
   "outputs": [],
   "source": [
    "features = [np.append(calc_descriptors(mol), calc_fingerprint(mol)) for mol in pf_mols]\n",
    "X = scaler.transform(features)"
   ]
  },
  {
   "cell_type": "code",
   "execution_count": null,
   "metadata": {},
   "outputs": [],
   "source": [
    "significance = 0.1\n",
    "prediction = pd.DataFrame(icp.predict(X, significance=significance), columns=['Minmum','Maximum'])\n",
    "prediction['Significance'] = '{}%' .format(100-int(significance*100))"
   ]
  },
  {
   "cell_type": "code",
   "execution_count": null,
   "metadata": {},
   "outputs": [],
   "source": [
    "prediction"
   ]
  }
 ],
 "metadata": {
  "kernelspec": {
   "display_name": "Python 3",
   "language": "python",
   "name": "python3"
  },
  "language_info": {
   "codemirror_mode": {
    "name": "ipython",
    "version": 3
   },
   "file_extension": ".py",
   "mimetype": "text/x-python",
   "name": "python",
   "nbconvert_exporter": "python",
   "pygments_lexer": "ipython3",
   "version": "3.7.6-final"
  }
 },
 "nbformat": 4,
 "nbformat_minor": 4
}