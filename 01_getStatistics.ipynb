{
 "cells": [
  {
   "cell_type": "code",
   "execution_count": 51,
   "metadata": {},
   "outputs": [],
   "source": [
    "import pandas as pd"
   ]
  },
  {
   "cell_type": "code",
   "execution_count": 52,
   "metadata": {},
   "outputs": [
    {
     "data": {
      "text/html": [
       "<div>\n",
       "<style scoped>\n",
       "    .dataframe tbody tr th:only-of-type {\n",
       "        vertical-align: middle;\n",
       "    }\n",
       "\n",
       "    .dataframe tbody tr th {\n",
       "        vertical-align: top;\n",
       "    }\n",
       "\n",
       "    .dataframe thead th {\n",
       "        text-align: right;\n",
       "    }\n",
       "</style>\n",
       "<table border=\"1\" class=\"dataframe\">\n",
       "  <thead>\n",
       "    <tr style=\"text-align: right;\">\n",
       "      <th></th>\n",
       "      <th>activity_comment</th>\n",
       "      <th>activity_id</th>\n",
       "      <th>activity_properties</th>\n",
       "      <th>assay_chembl_id</th>\n",
       "      <th>assay_description</th>\n",
       "      <th>assay_type</th>\n",
       "      <th>bao_endpoint</th>\n",
       "      <th>bao_format</th>\n",
       "      <th>bao_label</th>\n",
       "      <th>canonical_smiles</th>\n",
       "      <th>...</th>\n",
       "      <th>target_organism</th>\n",
       "      <th>target_pref_name</th>\n",
       "      <th>target_tax_id</th>\n",
       "      <th>text_value</th>\n",
       "      <th>toid</th>\n",
       "      <th>type</th>\n",
       "      <th>units</th>\n",
       "      <th>uo_units</th>\n",
       "      <th>upper_value</th>\n",
       "      <th>value</th>\n",
       "    </tr>\n",
       "  </thead>\n",
       "  <tbody>\n",
       "    <tr>\n",
       "      <th>0</th>\n",
       "      <td>NaN</td>\n",
       "      <td>224312</td>\n",
       "      <td>[]</td>\n",
       "      <td>CHEMBL824627</td>\n",
       "      <td>Compound was evaluated for the displacement of...</td>\n",
       "      <td>B</td>\n",
       "      <td>BAO_0000192</td>\n",
       "      <td>BAO_0000219</td>\n",
       "      <td>cell-based format</td>\n",
       "      <td>CC(C(=O)N[C@]1(c2ccccc2)CC[C@@H](N2CCN(C(C)C)C...</td>\n",
       "      <td>...</td>\n",
       "      <td>Homo sapiens</td>\n",
       "      <td>HERG</td>\n",
       "      <td>9606</td>\n",
       "      <td>NaN</td>\n",
       "      <td>NaN</td>\n",
       "      <td>Ki</td>\n",
       "      <td>nM</td>\n",
       "      <td>UO_0000065</td>\n",
       "      <td>NaN</td>\n",
       "      <td>1200.0</td>\n",
       "    </tr>\n",
       "    <tr>\n",
       "      <th>1</th>\n",
       "      <td>NaN</td>\n",
       "      <td>225577</td>\n",
       "      <td>[]</td>\n",
       "      <td>CHEMBL824627</td>\n",
       "      <td>Compound was evaluated for the displacement of...</td>\n",
       "      <td>B</td>\n",
       "      <td>BAO_0000192</td>\n",
       "      <td>BAO_0000219</td>\n",
       "      <td>cell-based format</td>\n",
       "      <td>CC(C(=O)NC1(c2ccccc2)CCC(N2CCC3(CCCO3)CC2)CC1)...</td>\n",
       "      <td>...</td>\n",
       "      <td>Homo sapiens</td>\n",
       "      <td>HERG</td>\n",
       "      <td>9606</td>\n",
       "      <td>NaN</td>\n",
       "      <td>NaN</td>\n",
       "      <td>Ki</td>\n",
       "      <td>nM</td>\n",
       "      <td>UO_0000065</td>\n",
       "      <td>NaN</td>\n",
       "      <td>730.0</td>\n",
       "    </tr>\n",
       "    <tr>\n",
       "      <th>2</th>\n",
       "      <td>NaN</td>\n",
       "      <td>228175</td>\n",
       "      <td>[]</td>\n",
       "      <td>CHEMBL824627</td>\n",
       "      <td>Compound was evaluated for the displacement of...</td>\n",
       "      <td>B</td>\n",
       "      <td>BAO_0000192</td>\n",
       "      <td>BAO_0000219</td>\n",
       "      <td>cell-based format</td>\n",
       "      <td>CC(C(=O)N[C@]1(c2ccccc2)CC[C@@H](N2CCC(c3ccc(F...</td>\n",
       "      <td>...</td>\n",
       "      <td>Homo sapiens</td>\n",
       "      <td>HERG</td>\n",
       "      <td>9606</td>\n",
       "      <td>NaN</td>\n",
       "      <td>NaN</td>\n",
       "      <td>Ki</td>\n",
       "      <td>nM</td>\n",
       "      <td>UO_0000065</td>\n",
       "      <td>NaN</td>\n",
       "      <td>43.0</td>\n",
       "    </tr>\n",
       "    <tr>\n",
       "      <th>3</th>\n",
       "      <td>NaN</td>\n",
       "      <td>232020</td>\n",
       "      <td>[]</td>\n",
       "      <td>CHEMBL824627</td>\n",
       "      <td>Compound was evaluated for the displacement of...</td>\n",
       "      <td>B</td>\n",
       "      <td>BAO_0000192</td>\n",
       "      <td>BAO_0000219</td>\n",
       "      <td>cell-based format</td>\n",
       "      <td>CC(C(=O)N[C@]1(c2ccccc2)CC[C@H](N2CCCCC2)CC1)c...</td>\n",
       "      <td>...</td>\n",
       "      <td>Homo sapiens</td>\n",
       "      <td>HERG</td>\n",
       "      <td>9606</td>\n",
       "      <td>NaN</td>\n",
       "      <td>NaN</td>\n",
       "      <td>Ki</td>\n",
       "      <td>nM</td>\n",
       "      <td>UO_0000065</td>\n",
       "      <td>NaN</td>\n",
       "      <td>1200.0</td>\n",
       "    </tr>\n",
       "    <tr>\n",
       "      <th>4</th>\n",
       "      <td>NaN</td>\n",
       "      <td>232022</td>\n",
       "      <td>[]</td>\n",
       "      <td>CHEMBL824627</td>\n",
       "      <td>Compound was evaluated for the displacement of...</td>\n",
       "      <td>B</td>\n",
       "      <td>BAO_0000192</td>\n",
       "      <td>BAO_0000219</td>\n",
       "      <td>cell-based format</td>\n",
       "      <td>CC1CCN([C@H]2CC[C@](NC(=O)C(C)c3cc(C(F)(F)F)cc...</td>\n",
       "      <td>...</td>\n",
       "      <td>Homo sapiens</td>\n",
       "      <td>HERG</td>\n",
       "      <td>9606</td>\n",
       "      <td>NaN</td>\n",
       "      <td>NaN</td>\n",
       "      <td>Ki</td>\n",
       "      <td>nM</td>\n",
       "      <td>UO_0000065</td>\n",
       "      <td>NaN</td>\n",
       "      <td>460.0</td>\n",
       "    </tr>\n",
       "  </tbody>\n",
       "</table>\n",
       "<p>5 rows × 43 columns</p>\n",
       "</div>"
      ],
      "text/plain": [
       "  activity_comment  activity_id activity_properties assay_chembl_id  \\\n",
       "0              NaN       224312                  []    CHEMBL824627   \n",
       "1              NaN       225577                  []    CHEMBL824627   \n",
       "2              NaN       228175                  []    CHEMBL824627   \n",
       "3              NaN       232020                  []    CHEMBL824627   \n",
       "4              NaN       232022                  []    CHEMBL824627   \n",
       "\n",
       "                                   assay_description assay_type bao_endpoint  \\\n",
       "0  Compound was evaluated for the displacement of...          B  BAO_0000192   \n",
       "1  Compound was evaluated for the displacement of...          B  BAO_0000192   \n",
       "2  Compound was evaluated for the displacement of...          B  BAO_0000192   \n",
       "3  Compound was evaluated for the displacement of...          B  BAO_0000192   \n",
       "4  Compound was evaluated for the displacement of...          B  BAO_0000192   \n",
       "\n",
       "    bao_format          bao_label  \\\n",
       "0  BAO_0000219  cell-based format   \n",
       "1  BAO_0000219  cell-based format   \n",
       "2  BAO_0000219  cell-based format   \n",
       "3  BAO_0000219  cell-based format   \n",
       "4  BAO_0000219  cell-based format   \n",
       "\n",
       "                                    canonical_smiles  ... target_organism  \\\n",
       "0  CC(C(=O)N[C@]1(c2ccccc2)CC[C@@H](N2CCN(C(C)C)C...  ...    Homo sapiens   \n",
       "1  CC(C(=O)NC1(c2ccccc2)CCC(N2CCC3(CCCO3)CC2)CC1)...  ...    Homo sapiens   \n",
       "2  CC(C(=O)N[C@]1(c2ccccc2)CC[C@@H](N2CCC(c3ccc(F...  ...    Homo sapiens   \n",
       "3  CC(C(=O)N[C@]1(c2ccccc2)CC[C@H](N2CCCCC2)CC1)c...  ...    Homo sapiens   \n",
       "4  CC1CCN([C@H]2CC[C@](NC(=O)C(C)c3cc(C(F)(F)F)cc...  ...    Homo sapiens   \n",
       "\n",
       "  target_pref_name target_tax_id text_value  toid type units    uo_units  \\\n",
       "0             HERG          9606        NaN   NaN   Ki    nM  UO_0000065   \n",
       "1             HERG          9606        NaN   NaN   Ki    nM  UO_0000065   \n",
       "2             HERG          9606        NaN   NaN   Ki    nM  UO_0000065   \n",
       "3             HERG          9606        NaN   NaN   Ki    nM  UO_0000065   \n",
       "4             HERG          9606        NaN   NaN   Ki    nM  UO_0000065   \n",
       "\n",
       "  upper_value   value  \n",
       "0         NaN  1200.0  \n",
       "1         NaN   730.0  \n",
       "2         NaN    43.0  \n",
       "3         NaN  1200.0  \n",
       "4         NaN   460.0  \n",
       "\n",
       "[5 rows x 43 columns]"
      ]
     },
     "execution_count": 52,
     "metadata": {},
     "output_type": "execute_result"
    }
   ],
   "source": [
    "df = pd.read_csv('herg_compound_from_chembl.csv', index_col=[0])\n",
    "df.head()"
   ]
  },
  {
   "cell_type": "code",
   "execution_count": 53,
   "metadata": {},
   "outputs": [
    {
     "data": {
      "text/plain": [
       "Index(['activity_comment', 'activity_id', 'activity_properties',\n",
       "       'assay_chembl_id', 'assay_description', 'assay_type', 'bao_endpoint',\n",
       "       'bao_format', 'bao_label', 'canonical_smiles', 'data_validity_comment',\n",
       "       'data_validity_description', 'document_chembl_id', 'document_journal',\n",
       "       'document_year', 'ligand_efficiency', 'molecule_chembl_id',\n",
       "       'molecule_pref_name', 'parent_molecule_chembl_id', 'pchembl_value',\n",
       "       'potential_duplicate', 'qudt_units', 'record_id', 'relation', 'src_id',\n",
       "       'standard_flag', 'standard_relation', 'standard_text_value',\n",
       "       'standard_type', 'standard_units', 'standard_upper_value',\n",
       "       'standard_value', 'target_chembl_id', 'target_organism',\n",
       "       'target_pref_name', 'target_tax_id', 'text_value', 'toid', 'type',\n",
       "       'units', 'uo_units', 'upper_value', 'value'],\n",
       "      dtype='object')"
      ]
     },
     "execution_count": 53,
     "metadata": {},
     "output_type": "execute_result"
    }
   ],
   "source": [
    "df.columns"
   ]
  },
  {
   "cell_type": "code",
   "execution_count": 54,
   "metadata": {},
   "outputs": [
    {
     "data": {
      "text/plain": [
       "Not Active (inhibition < 50% @ 10 uM and thus dose-reponse curve not measured)    835\n",
       "Not Determined                                                                     99\n",
       "Not Active                                                                         10\n",
       "Note: corresponding IC50 reported as Active                                         1\n",
       "312548                                                                              1\n",
       "312545                                                                              1\n",
       "312546                                                                              1\n",
       "312542                                                                              1\n",
       "312549                                                                              1\n",
       "312541                                                                              1\n",
       "312543                                                                              1\n",
       "312544                                                                              1\n",
       "312550                                                                              1\n",
       "312547                                                                              1\n",
       "Name: activity_comment, dtype: int64"
      ]
     },
     "execution_count": 54,
     "metadata": {},
     "output_type": "execute_result"
    }
   ],
   "source": [
    "df.activity_comment.value_counts()"
   ]
  },
  {
   "cell_type": "code",
   "execution_count": 55,
   "metadata": {},
   "outputs": [
    {
     "data": {
      "text/plain": [
       "B    2568\n",
       "A      46\n",
       "T       1\n",
       "Name: assay_type, dtype: int64"
      ]
     },
     "execution_count": 55,
     "metadata": {},
     "output_type": "execute_result"
    }
   ],
   "source": [
    "df.assay_type.value_counts()"
   ]
  },
  {
   "cell_type": "code",
   "execution_count": 56,
   "metadata": {},
   "outputs": [
    {
     "data": {
      "text/plain": [
       "=    1305\n",
       ">     364\n",
       "<       1\n",
       "Name: standard_relation, dtype: int64"
      ]
     },
     "execution_count": 56,
     "metadata": {},
     "output_type": "execute_result"
    }
   ],
   "source": [
    "df.standard_relation.value_counts()"
   ]
  },
  {
   "cell_type": "code",
   "execution_count": 57,
   "metadata": {},
   "outputs": [
    {
     "data": {
      "text/plain": [
       "uM     793\n",
       "nM     692\n",
       "/nM      5\n",
       "Name: units, dtype: int64"
      ]
     },
     "execution_count": 57,
     "metadata": {},
     "output_type": "execute_result"
    }
   ],
   "source": [
    "df.units.value_counts()"
   ]
  },
  {
   "cell_type": "code",
   "execution_count": 58,
   "metadata": {},
   "outputs": [],
   "source": [
    "import numpy as np\n",
    "\n",
    "def unitConversion(value, unit='uM'):\n",
    "    if unit == 'uM':\n",
    "        value = float(value) * 1000\n",
    "    elif unit == 'nM' or unit == '\\nM':\n",
    "        value = float(value)\n",
    "    elif unit == 'microM':\n",
    "        value = float(value) * 1000000\n",
    "    else:\n",
    "        pass\n",
    "    return value\n",
    "\n",
    "df.value = [unitConversion(x,df.units[i]) for i,x in enumerate(df.value)]\n",
    "df.units = 'nM'"
   ]
  },
  {
   "cell_type": "code",
   "execution_count": 59,
   "metadata": {},
   "outputs": [
    {
     "name": "stdout",
     "output_type": "stream",
     "text": [
      "共有2468个化合物\n",
      "活性化合物(Ki<10uM)有1246个\n",
      "非活性化合物(Ki<10uM)有1222个\n"
     ]
    }
   ],
   "source": [
    "df.value = [float(x) for x in df.value]\n",
    "df = df[df.activity_comment != 'Not Determined']\n",
    "df = df[df.activity_comment != 'Note: corresponding IC50 reported as Active']\n",
    "df = df[df.assay_type == 'B'] # 只保留Binding Data\n",
    "\n",
    "print('共有%s个化合物' %(len(df)))\n",
    "print('活性化合物(Ki<10uM)有%s个' %len(df[df.value < 10000]))\n",
    "print('非活性化合物(Ki<10uM)有%s个' %len(df[(df.value >= 10000) | (df.activity_comment == 'Not Active (inhibition < 50% @ 10 uM and thus dose-reponse curve not measured)') | (df.activity_comment == 'Not Active')]))"
   ]
  },
  {
   "cell_type": "code",
   "execution_count": 60,
   "metadata": {},
   "outputs": [
    {
     "name": "stderr",
     "output_type": "stream",
     "text": [
      "/home/dahuilangda/Simulation/miniconda3/envs/env_simu/lib/python3.7/site-packages/ipykernel_launcher.py:3: SettingWithCopyWarning: \n",
      "A value is trying to be set on a copy of a slice from a DataFrame\n",
      "\n",
      "See the caveats in the documentation: https://pandas.pydata.org/pandas-docs/stable/user_guide/indexing.html#returning-a-view-versus-a-copy\n",
      "  This is separate from the ipykernel package so we can avoid doing imports until\n"
     ]
    }
   ],
   "source": [
    "# activity_comment列标记活性\n",
    "df.activity_comment[df.value < 10000] = 1\n",
    "df.activity_comment[(df.value >= 10000) | (df.activity_comment == 'Not Active (inhibition < 50% @ 10 uM and thus dose-reponse curve not measured)') | (df.activity_comment == 'Not Active')] = 0"
   ]
  },
  {
   "cell_type": "code",
   "execution_count": 23,
   "metadata": {},
   "outputs": [],
   "source": [
    "df.to_csv('herg_compound_from_chembl_processed.csv')"
   ]
  },
  {
   "cell_type": "code",
   "execution_count": null,
   "metadata": {},
   "outputs": [],
   "source": []
  }
 ],
 "metadata": {
  "kernelspec": {
   "display_name": "Python 3",
   "language": "python",
   "name": "python3"
  },
  "language_info": {
   "codemirror_mode": {
    "name": "ipython",
    "version": 3
   },
   "file_extension": ".py",
   "mimetype": "text/x-python",
   "name": "python",
   "nbconvert_exporter": "python",
   "pygments_lexer": "ipython3",
   "version": "3.7.6"
  }
 },
 "nbformat": 4,
 "nbformat_minor": 4
}
