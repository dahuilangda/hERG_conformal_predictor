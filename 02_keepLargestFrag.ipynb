{
 "cells": [
  {
   "cell_type": "code",
   "execution_count": 1,
   "metadata": {},
   "outputs": [],
   "source": [
    "from rdkit import Chem\n",
    "import pandas as pd"
   ]
  },
  {
   "cell_type": "code",
   "execution_count": 2,
   "metadata": {},
   "outputs": [
    {
     "data": {
      "text/plain": [
       "Index(['activity_comment', 'activity_id', 'activity_properties',\n",
       "       'assay_chembl_id', 'assay_description', 'assay_type', 'bao_endpoint',\n",
       "       'bao_format', 'bao_label', 'canonical_smiles', 'data_validity_comment',\n",
       "       'data_validity_description', 'document_chembl_id', 'document_journal',\n",
       "       'document_year', 'ligand_efficiency', 'molecule_chembl_id',\n",
       "       'molecule_pref_name', 'parent_molecule_chembl_id', 'pchembl_value',\n",
       "       'potential_duplicate', 'qudt_units', 'record_id', 'relation', 'src_id',\n",
       "       'standard_flag', 'standard_relation', 'standard_text_value',\n",
       "       'standard_type', 'standard_units', 'standard_upper_value',\n",
       "       'standard_value', 'target_chembl_id', 'target_organism',\n",
       "       'target_pref_name', 'target_tax_id', 'text_value', 'toid', 'type',\n",
       "       'units', 'uo_units', 'upper_value', 'value'],\n",
       "      dtype='object')"
      ]
     },
     "execution_count": 2,
     "metadata": {},
     "output_type": "execute_result"
    }
   ],
   "source": [
    "df = pd.read_csv('herg_compound_from_chembl_processed.csv', index_col=[0])\n",
    "df.columns"
   ]
  },
  {
   "cell_type": "code",
   "execution_count": 3,
   "metadata": {},
   "outputs": [
    {
     "name": "stdout",
     "output_type": "stream",
     "text": [
      "1439\n",
      "1439\n"
     ]
    },
    {
     "name": "stderr",
     "output_type": "stream",
     "text": [
      "/home/dahuilangda/Simulation/miniconda3/envs/env_simu/lib/python3.7/site-packages/ipykernel_launcher.py:4: UserWarning: Pandas doesn't allow columns to be created via a new attribute name - see https://pandas.pydata.org/pandas-docs/stable/indexing.html#attribute-access\n",
      "  after removing the cwd from sys.path.\n"
     ]
    }
   ],
   "source": [
    "print(len(df))\n",
    "df.canonical_smiles.fillna(0, inplace=True)\n",
    "df = df[df.canonical_smiles != 0]\n",
    "df.mol = [Chem.MolFromSmiles(x) for x in df.canonical_smiles]\n",
    "print(len(df))"
   ]
  },
  {
   "cell_type": "code",
   "execution_count": 4,
   "metadata": {},
   "outputs": [],
   "source": [
    "largest_frag_lists = []\n",
    "for s in df.mol:\n",
    "    fragmented = Chem.GetMolFrags(s, asMols=True)\n",
    "    list_cpds_fragsize = []\n",
    "    for x in fragmented:\n",
    "        list_cpds_fragsize.append(x.GetNumAtoms())\n",
    "    largest_frag_index = list_cpds_fragsize.index(max(list_cpds_fragsize))\n",
    "    largest_frag = fragmented[largest_frag_index]\n",
    "    largest_frag_lists.append(Chem.MolToSmiles(largest_frag))\n",
    "    \n",
    "df['smiles'] = largest_frag_lists"
   ]
  },
  {
   "cell_type": "code",
   "execution_count": 5,
   "metadata": {},
   "outputs": [],
   "source": [
    "df.to_csv('herg_compound_from_chembl_processed_largestFrag.csv', index=False)"
   ]
  },
  {
   "cell_type": "code",
   "execution_count": null,
   "metadata": {},
   "outputs": [],
   "source": []
  }
 ],
 "metadata": {
  "kernelspec": {
   "display_name": "Python 3",
   "language": "python",
   "name": "python3"
  },
  "language_info": {
   "codemirror_mode": {
    "name": "ipython",
    "version": 3
   },
   "file_extension": ".py",
   "mimetype": "text/x-python",
   "name": "python",
   "nbconvert_exporter": "python",
   "pygments_lexer": "ipython3",
   "version": "3.7.6"
  }
 },
 "nbformat": 4,
 "nbformat_minor": 4
}
