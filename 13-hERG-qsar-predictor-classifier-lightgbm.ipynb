{
 "cells": [
  {
   "cell_type": "code",
   "execution_count": null,
   "metadata": {},
   "outputs": [],
   "source": [
    "from rdkit.Chem import Descriptors, AllChem as Chem, DataStructs, PandasTools\n",
    "import numpy as np\n",
    "import pickle\n",
    "import pandas as pd\n",
    "from sklearn import preprocessing\n",
    "from sklearn.model_selection import train_test_split\n",
    "from sklearn.metrics import roc_auc_score"
   ]
  },
  {
   "cell_type": "code",
   "execution_count": null,
   "metadata": {},
   "outputs": [],
   "source": [
    "def calc_descriptors(rdmol):\n",
    "    try:\n",
    "        logp = Descriptors.MolLogP(rdmol)\n",
    "        mwt = Descriptors.MolWt(rdmol)\n",
    "        rtb = Descriptors.NumRotatableBonds(rdmol)\n",
    "        hbd = Descriptors.NumHDonors(rdmol)\n",
    "        hba = Descriptors.NumHAcceptors(rdmol)\n",
    "        tpsa = Descriptors.TPSA(rdmol)\n",
    "        return [logp, mwt, rtb, hbd, hba, tpsa]\n",
    "    except:\n",
    "        return [999, 999, 999, 999, 999, 999, 999]\n",
    "    \n",
    "def calc_fingerprint(rdmol, N_BITS=1024):\n",
    "        fp = Chem.GetMorganFingerprintAsBitVect(\n",
    "            rdmol, radius=2, nBits=N_BITS, useFeatures=False\n",
    "        )\n",
    "        np_fp = np.zeros(0)\n",
    "        ecfp = DataStructs.ConvertToNumpyArray(fp, np_fp)\n",
    "        return np_fp\n",
    "\n",
    "def pred_category(p0, p1, significance):\n",
    "    if (p0 >= significance) & (p1 >= significance):\n",
    "        return \"both\"\n",
    "    if (p0 >= significance) & (p1 < significance):\n",
    "        return \"inactive\"\n",
    "    if (p0 < significance) & (p1 >= significance):\n",
    "        return \"active\"\n",
    "    else:\n",
    "        return \"empty\""
   ]
  },
  {
   "cell_type": "code",
   "execution_count": null,
   "metadata": {},
   "outputs": [],
   "source": [
    "df = pd.read_csv('herg2.csv', sep=',',names=['smiles', 'ic50'])\n",
    "PandasTools.AddMoleculeColumnToFrame(df, 'smiles', 'mol')\n",
    "df['mol'] = df['mol'].fillna(0)\n",
    "df = df[df.mol != 0]"
   ]
  },
  {
   "cell_type": "code",
   "execution_count": null,
   "metadata": {},
   "outputs": [],
   "source": [
    "df['active'] = [1 if v > 6 else 0 for v in df.ic50]"
   ]
  },
  {
   "cell_type": "code",
   "execution_count": null,
   "metadata": {},
   "outputs": [],
   "source": [
    "df['active'].plot(kind='hist')"
   ]
  },
  {
   "cell_type": "code",
   "execution_count": null,
   "metadata": {},
   "outputs": [],
   "source": [
    "features = [np.append(calc_descriptors(mol), calc_fingerprint(mol)) for mol in df.mol]"
   ]
  },
  {
   "cell_type": "code",
   "execution_count": null,
   "metadata": {},
   "outputs": [],
   "source": [
    "import os\n",
    "import pickle\n",
    "import lightgbm as lgb\n",
    "from sklearn.metrics import roc_auc_score\n",
    "\n",
    "scaler = preprocessing.StandardScaler().fit(features)\n",
    "\n",
    "if not os.path.exists('models'):\n",
    "    os.makedirs('models')\n",
    "pickle.dump(scaler, open('models/scaler-herg.pkl','wb'))\n",
    "\n",
    "X= scaler.transform(features)\n",
    "y = df['active'].values"
   ]
  },
  {
   "cell_type": "code",
   "execution_count": null,
   "metadata": {},
   "outputs": [],
   "source": [
    "X_train, X_test, y_train, y_test = train_test_split(X, y)\n",
    "lgb_train = lgb.Dataset(X_train, y_train)  \n",
    "lgb_eval = lgb.Dataset(X_test, y_test, reference=lgb_train)  "
   ]
  },
  {
   "cell_type": "code",
   "execution_count": null,
   "metadata": {},
   "outputs": [],
   "source": [
    "params = {  \n",
    "    'boosting_type': 'gbdt',  \n",
    "    'objective': 'binary',  \n",
    "    'metric': {'binary_logloss', 'auc'},  #二进制对数损失\n",
    "    'num_leaves': 5,  \n",
    "    'max_depth': 6,  \n",
    "    'min_data_in_leaf': 450,  \n",
    "    'learning_rate': 0.1,  \n",
    "    'feature_fraction': 0.9,  \n",
    "    'bagging_fraction': 0.95,  \n",
    "    'bagging_freq': 5,  \n",
    "    'lambda_l1': 1,    \n",
    "    'lambda_l2': 0.001,  # 越小l2正则程度越高  \n",
    "    'min_gain_to_split': 0.2,  \n",
    "    'verbose': 5,  \n",
    "    'is_unbalance': True  \n",
    "}\n",
    "# train  \n",
    "print('Start training...')  \n",
    "gbm = lgb.train(params,  \n",
    "                lgb_train,  \n",
    "                num_boost_round=10000,  \n",
    "                valid_sets=lgb_eval,  \n",
    "                early_stopping_rounds=500)  \n",
    "\n",
    "print('Start predicting...')  \n",
    "preds = gbm.predict(X_test, num_iteration=gbm.best_iteration)\n",
    "auc_lgbm = roc_auc_score(y_test,preds)\n",
    "print(auc_lgbm)"
   ]
  },
  {
   "cell_type": "code",
   "execution_count": null,
   "metadata": {},
   "outputs": [],
   "source": [
    "if not os.path.exists('models'):\n",
    "    os.makedirs('models')\n",
    "pickle.dump(gbm, open('models/gbm-classifier-herg.pkl','wb'))"
   ]
  },
  {
   "cell_type": "code",
   "execution_count": null,
   "metadata": {},
   "outputs": [],
   "source": [
    "gbm = pickle.load(open('models/gbm-classifier-herg.pkl', 'rb'))"
   ]
  },
  {
   "cell_type": "code",
   "execution_count": null,
   "metadata": {},
   "outputs": [],
   "source": [
    "y_pred = gbm.predict(X_test)\n",
    "print('The AUC of prediction is:', roc_auc_score(y_test,preds))"
   ]
  },
  {
   "cell_type": "code",
   "execution_count": null,
   "metadata": {},
   "outputs": [],
   "source": [
    "from sklearn.metrics import roc_curve, auc\n",
    "import matplotlib.pyplot as plt\n",
    "\n",
    "fpr = dict()\n",
    "tpr = dict()\n",
    "roc_auc = dict()\n",
    "fpr, tpr, _ = roc_curve(y_test, y_pred)\n",
    "roc_auc = auc(fpr, tpr)\n",
    "\n",
    "plt.figure()\n",
    "lw = 2\n",
    "plt.plot(fpr, tpr, color='darkorange',\n",
    "         lw=lw, label='ROC curve (area = %0.2f)' % roc_auc)\n",
    "plt.plot([0, 1], [0, 1], color='navy', lw=lw, linestyle='--')\n",
    "plt.xlim([0.0, 1.0])\n",
    "plt.ylim([0.0, 1.0])\n",
    "plt.xlabel('False Positive Rate')\n",
    "plt.ylabel('True Positive Rate')\n",
    "plt.title('ROC of hERG')\n",
    "plt.legend(loc=\"lower right\")\n",
    "plt.savefig('herg_predict.svg')\n",
    "plt.show()"
   ]
  },
  {
   "cell_type": "code",
   "execution_count": null,
   "metadata": {},
   "outputs": [],
   "source": []
  },
  {
   "cell_type": "code",
   "execution_count": null,
   "metadata": {},
   "outputs": [],
   "source": []
  },
  {
   "cell_type": "code",
   "execution_count": null,
   "metadata": {},
   "outputs": [],
   "source": []
  },
  {
   "cell_type": "code",
   "execution_count": null,
   "metadata": {},
   "outputs": [],
   "source": []
  },
  {
   "cell_type": "markdown",
   "metadata": {},
   "source": [
    "# Load models and predict molecules (smiles)"
   ]
  },
  {
   "cell_type": "code",
   "execution_count": null,
   "metadata": {},
   "outputs": [],
   "source": [
    "import pandas as pd\n",
    "import pickle\n",
    "from rdkit import Chem\n",
    "from rdkit.Chem import Descriptors, AllChem as Chem, DataStructs\n",
    "from rdkit.Chem import PandasTools\n",
    "import numpy as np\n",
    "\n",
    "def calc_descriptors(rdmol):\n",
    "    try:\n",
    "        logp = Descriptors.MolLogP(rdmol)\n",
    "        mwt = Descriptors.MolWt(rdmol)\n",
    "        rtb = Descriptors.NumRotatableBonds(rdmol)\n",
    "        hbd = Descriptors.NumHDonors(rdmol)\n",
    "        hba = Descriptors.NumHAcceptors(rdmol)\n",
    "        tpsa = Descriptors.TPSA(rdmol)\n",
    "        return [logp, mwt, rtb, hbd, hba, tpsa]\n",
    "    except:\n",
    "        return [999, 999, 999, 999, 999, 999, 999]\n",
    "    \n",
    "def calc_fingerprint(rdmol, N_BITS=1024):\n",
    "        fp = Chem.GetMorganFingerprintAsBitVect(\n",
    "            rdmol, radius=2, nBits=N_BITS, useFeatures=False\n",
    "        )\n",
    "        np_fp = np.zeros(0)\n",
    "        ecfp = DataStructs.ConvertToNumpyArray(fp, np_fp)\n",
    "        return np_fp\n",
    "\n",
    "def pred_category(p0, p1, significance):\n",
    "    if (p0 >= significance) & (p1 >= significance):\n",
    "        return \"both\"\n",
    "    if (p0 >= significance) & (p1 < significance):\n",
    "        return \"inactive\"\n",
    "    if (p0 < significance) & (p1 >= significance):\n",
    "        return \"active\"\n",
    "    else:\n",
    "        return \"empty\"\n",
    "\n",
    "\n",
    "df = pd.read_csv('smiles_list.smi', sep='\\t',names=['smiles', 'cas', 'active'])\n",
    "PandasTools.AddMoleculeColumnToFrame(df, 'smiles', 'mol')\n",
    "df['mol'] = df['mol'].fillna(0)\n",
    "df = df[df.mol != 0]\n",
    "features = [np.append(calc_descriptors(mol), calc_fingerprint(mol)) for mol in df.mol.values]\n",
    "scaler = pickle.load(open('models/scaler-herg.pkl', 'rb'))\n",
    "X = scaler.transform(features)\n",
    "gbm = pickle.load(open('models/gbm-classifier-herg.pkl', 'rb'))\n",
    "y_pred = gbm.predict(X)"
   ]
  },
  {
   "cell_type": "code",
   "execution_count": null,
   "metadata": {},
   "outputs": [],
   "source": [
    "import pandas as pd\n",
    "import pickle\n",
    "from rdkit import Chem\n",
    "from rdkit.Chem import Descriptors, AllChem as Chem, DataStructs\n",
    "from rdkit.Chem import PandasTools\n",
    "\n",
    "def calc_descriptors(rdmol):\n",
    "    try:\n",
    "        logp = Descriptors.MolLogP(rdmol)\n",
    "        mwt = Descriptors.MolWt(rdmol)\n",
    "        rtb = Descriptors.NumRotatableBonds(rdmol)\n",
    "        hbd = Descriptors.NumHDonors(rdmol)\n",
    "        hba = Descriptors.NumHAcceptors(rdmol)\n",
    "        tpsa = Descriptors.TPSA(rdmol)\n",
    "        return [logp, mwt, rtb, hbd, hba, tpsa]\n",
    "    except:\n",
    "        return [999, 999, 999, 999, 999, 999, 999]\n",
    "    \n",
    "def calc_fingerprint(rdmol, N_BITS=1024):\n",
    "        fp = Chem.GetMorganFingerprintAsBitVect(\n",
    "            rdmol, radius=2, nBits=N_BITS, useFeatures=False\n",
    "        )\n",
    "        np_fp = np.zeros(0)\n",
    "        ecfp = DataStructs.ConvertToNumpyArray(fp, np_fp)\n",
    "        return np_fp\n",
    "\n",
    "\n",
    "def herg_score(mol):\n",
    "    try:\n",
    "        smi = Chem.MolToSmiles(mol)\n",
    "        features = np.append(calc_descriptors(mol), calc_fingerprint(mol))\n",
    "        features = features.reshape(1, -1)\n",
    "        scaler = pickle.load(open('models/scaler-herg.pkl', 'rb'))\n",
    "        X = scaler.transform(features)\n",
    "        gbm = pickle.load(open('models/gbm-classifier-herg.pkl', 'rb'))\n",
    "        y_pred = gbm.predict(X)\n",
    "        return y_pred[0]\n",
    "    except Exception as e:\n",
    "        return print(e)"
   ]
  },
  {
   "cell_type": "code",
   "execution_count": null,
   "metadata": {},
   "outputs": [],
   "source": [
    "smi = 'CCN(CC)CCCC(C)NC1=C2C=CC(=CC2=NC=C1)Cl'\n",
    "mol = Chem.MolFromSmiles(smi)\n",
    "Chem.Kekulize(mol)\n",
    "herg_score(mol)"
   ]
  }
 ],
 "metadata": {
  "kernelspec": {
   "display_name": "Python 3",
   "language": "python",
   "name": "python3"
  },
  "language_info": {
   "codemirror_mode": {
    "name": "ipython",
    "version": 3
   },
   "file_extension": ".py",
   "mimetype": "text/x-python",
   "name": "python",
   "nbconvert_exporter": "python",
   "pygments_lexer": "ipython3",
   "version": "3.7.6"
  }
 },
 "nbformat": 4,
 "nbformat_minor": 4
}